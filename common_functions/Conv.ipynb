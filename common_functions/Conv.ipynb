{
 "cells": [
  {
   "cell_type": "code",
   "execution_count": 1,
   "metadata": {},
   "outputs": [],
   "source": [
    "from IPython.display import Latex"
   ]
  },
  {
   "cell_type": "markdown",
   "metadata": {},
   "source": [
    "### CLASS torch.nn.Conv2d(in_channels, out_channels, kernel_size, stride=1, padding=0, dilation=1, groups=1, bias=True, padding_mode='zeros')\n",
    "#### 参数\n",
    "- in_channels(int) – 输入信号的通道\n",
    "- out_channels(int) – 卷积产生的通道\n",
    "- kerner_size(int or tuple) - 卷积核的尺寸\n",
    "- stride(int or tuple, optional) - 卷积步长\n",
    "- padding(int or tuple, optional) - 输入的每一条边补充0的层数\n",
    "- dilation(int or tuple, optional) – 卷积核元素之间的间距,dilation=1是普通卷积\n",
    "- groups(int, optional) – 输入通道分为几组卷积，每个卷积核只能看到一组，卷积后再做concatenate\n",
    "- bias(bool, optional) - 如果bias=True，添加偏置\n",
    "\n",
    "其中，kernel_size, stride, padding, dilation可以是一个int型数，也可以是由2个int数组成的元组。\n",
    "\n",
    "假设输入shape=[N,Cin,H,W]，输出的shape=[N,Cout,Hout,Wout]\n",
    "输出尺度的计算公式：\n",
    "![image.png](attachment:image.png)\n"
   ]
  },
  {
   "cell_type": "markdown",
   "metadata": {},
   "source": [
    "**默认情况下，做普通卷积时，dilation=1**\n",
    "\n",
    "默认padding=0，即valid卷积：\n",
    "\n",
    "<center>$H_{out}=\\left \\lfloor \\frac{H_{in}-kernel\\_size[0]}{stride[0]} +1\\right \\rfloor$ </center>\n",
    "\n",
    "<center>$W_{out}=\\left \\lfloor \\frac{W_{in}-kernel\\_size[1]}{stride[1]} +1\\right \\rfloor$</center>\n",
    "\n",
    "same卷积：设置stride=1，padding=(kernel_size-1)/2"
   ]
  },
  {
   "cell_type": "code",
   "execution_count": null,
   "metadata": {},
   "outputs": [],
   "source": []
  }
 ],
 "metadata": {
  "kernelspec": {
   "display_name": "Python 3",
   "language": "python",
   "name": "python3"
  },
  "language_info": {
   "codemirror_mode": {
    "name": "ipython",
    "version": 3
   },
   "file_extension": ".py",
   "mimetype": "text/x-python",
   "name": "python",
   "nbconvert_exporter": "python",
   "pygments_lexer": "ipython3",
   "version": "3.6.6"
  }
 },
 "nbformat": 4,
 "nbformat_minor": 2
}
