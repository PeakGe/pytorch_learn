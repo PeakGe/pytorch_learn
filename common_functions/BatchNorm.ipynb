{
 "cells": [
  {
   "cell_type": "markdown",
   "metadata": {},
   "source": [
    "## class torch.nn.BatchNorm2d(num_features, eps=1e-05, momentum=0.1, affine=True)\n",
    "\n",
    "参数：\n",
    "\n",
    "- num_features： 来自输入的特征数，输入的shape为[bs,num_features,H,W]\n",
    "- eps： 为保证数值稳定性（分母不能趋近或取0）,给分母加上的值。默认为1e-5。\n",
    "- momentum： 动态均值和动态方差所使用的动量。默认为0.1。\n",
    "- affine： 一个布尔值，当设为true，给该层添加可学习的仿射变换参数。\n",
    "\n",
    "原理：batch normalization是在每个通道的batch size个通道上求平均值和标准差来normalization\n",
    "\n",
    "<center>$y=\\frac{x-E\\left [ x \\right ]}{\\sqrt{Var\\left [ x \\right ]+\\epsilon }}*\\gamma +\\beta$</center>"
   ]
  },
  {
   "cell_type": "code",
   "execution_count": null,
   "metadata": {},
   "outputs": [],
   "source": []
  }
 ],
 "metadata": {
  "kernelspec": {
   "display_name": "Python 3",
   "language": "python",
   "name": "python3"
  },
  "language_info": {
   "codemirror_mode": {
    "name": "ipython",
    "version": 3
   },
   "file_extension": ".py",
   "mimetype": "text/x-python",
   "name": "python",
   "nbconvert_exporter": "python",
   "pygments_lexer": "ipython3",
   "version": "3.6.6"
  }
 },
 "nbformat": 4,
 "nbformat_minor": 2
}
