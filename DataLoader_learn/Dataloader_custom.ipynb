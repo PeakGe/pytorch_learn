{
 "cells": [
  {
   "cell_type": "markdown",
   "metadata": {},
   "source": [
    "### 自定义数据读取\n",
    "在Dataloader_default中我们学会采用torchvision.datasets.ImageFolder这个接口来读取图像数据，**该接口默认你的训练数据是按照一个类别存放在一个文件夹下。**但是有些情况下你的图像数据不是这样维护的，比如一个文件夹下面各个类别的图像数据都有，同时用一个对应的标签文件，比如txt文件来维护图像和标签的对应关系，在这种情况下就不能用torchvision.datasets.ImageFolder来读取数据了，需要自定义一个数据读取接口。"
   ]
  },
  {
   "cell_type": "markdown",
   "metadata": {},
   "source": [
    "### torchvision.datasets.ImageFolder类源码"
   ]
  },
  {
   "cell_type": "code",
   "execution_count": null,
   "metadata": {},
   "outputs": [],
   "source": [
    "class ImageFolder(data.Dataset):\n",
    "    \"\"\"A generic data loader where the images are arranged in this way: ::\n",
    "\n",
    "        root/dog/xxx.png\n",
    "        root/dog/xxy.png\n",
    "        root/dog/xxz.png\n",
    "\n",
    "        root/cat/123.png\n",
    "        root/cat/nsdf3.png\n",
    "        root/cat/asd932_.png\n",
    "\n",
    "    参数:\n",
    "        - root：在root指定的路径下寻找图片\n",
    "        - transform：对PIL Image进行的转换操作，transform的输入是使用loader读取图片的返回对象\n",
    "        - target_transform：对label的转换\n",
    "        - loader：给定路径后如何读取图片，默认读取为RGB格式的PIL Image对象\n",
    "\n",
    "     属性:\n",
    "        classes (list):类名列表\n",
    "        class_to_idx (dict):类名和类标签字典 {class_name:class_index,...}.\n",
    "        imgs (list): 图像路径和标签元组的列表 [(image path,class_index)...]\n",
    "    \"\"\"\n",
    "\n",
    "\n",
    "    def __init__(self, root, transform=None, target_transform=None,\n",
    "                 loader=default_loader):\n",
    "        classes, class_to_idx = find_classes(root)\n",
    "        imgs = make_dataset(root, class_to_idx)\n",
    "        if len(imgs) == 0:\n",
    "            raise(RuntimeError(\"Found 0 images in subfolders of: \" + root + \"\\n\"\n",
    "                               \"Supported image extensions are: \" + \",\".join(IMG_EXTENSIONS)))\n",
    "\n",
    "        self.root = root\n",
    "        self.imgs = imgs\n",
    "        self.classes = classes\n",
    "        self.class_to_idx = class_to_idx\n",
    "        self.transform = transform\n",
    "        self.target_transform = target_transform\n",
    "        self.loader = loader\n",
    "\n",
    "    def __getitem__(self, index):\n",
    "        \"\"\"\n",
    "        Args:\n",
    "            index (int): Index\n",
    "\n",
    "        Returns:\n",
    "            tuple: (image, target) where target is class_index of the target class.\n",
    "        \"\"\"\n",
    "        path, target = self.imgs[index]\n",
    "        img = self.loader(path)\n",
    "        if self.transform is not None:\n",
    "            img = self.transform(img)\n",
    "        if self.target_transform is not None:\n",
    "            target = self.target_transform(target)\n",
    "\n",
    "        return img, target\n",
    "\n",
    "    def __len__(self):\n",
    "        return len(self.imgs)"
   ]
  },
  {
   "cell_type": "markdown",
   "metadata": {},
   "source": [
    "看起来很复杂，其实非常简单。继承的类是torch.utils.data.Dataset，主要包含三个方法：\n",
    "- 初始化\\_\\_init\\_\\_，\n",
    "- 获取图像\\_\\_getitem\\_\\_，\n",
    "- 数据集数量 \\_\\_len\\_\\_。\n",
    "\n",
    "\\_\\_init\\_\\_方法中先通过find_classes函数得到分类的类别名（classes）和类别名与数字类别的映射关系字典（class_to_idx）。然后通过make_dataset函数得到imags，这个imags是一个列表，其中每个值是一个tuple，每个tuple包含两个元素：图像路径和标签。剩下的就是一些赋值操作了。\n",
    "\n",
    "在\\_\\_getitem\\_\\_方法中最重要的就是 img = self.loader(path)这行，表示数据读取，可以从\\_\\_init\\_\\_方法中看出self.loader采用的是default_loader，这个default_loader的核心就是用python的PIL库的Image模块来读取图像数据。\n"
   ]
  },
  {
   "cell_type": "markdown",
   "metadata": {},
   "source": [
    "**稍微看下default_loader函数，该函数主要分两种情况调用两个函数，一般采用pil_loader函数。**"
   ]
  },
  {
   "cell_type": "code",
   "execution_count": null,
   "metadata": {},
   "outputs": [],
   "source": [
    "def pil_loader(path):\n",
    "    with open(path, 'rb') as f:\n",
    "        with Image.open(f) as img:\n",
    "            return img.convert('RGB')\n",
    "\n",
    "def accimage_loader(path):\n",
    "    import accimage\n",
    "    try:\n",
    "        return accimage.Image(path)\n",
    "    except IOError:\n",
    "        # Potentially a decoding problem, fall back to PIL.Image\n",
    "        return pil_loader(path)\n",
    "\n",
    "def default_loader(path):\n",
    "    from torchvision import get_image_backend\n",
    "    if get_image_backend() == 'accimage':\n",
    "        return accimage_loader(path)\n",
    "    else:"
   ]
  },
  {
   "cell_type": "markdown",
   "metadata": {},
   "source": [
    "看懂了ImageFolder这个类，就可以自定义一个你自己的数据读取接口了。\n",
    "\n",
    "**首先在PyTorch中和数据读取相关的类基本都要继承一个基类：torch.utils.data.Dataset。然后再改写其中的__init__、__len__、__getitem__等方法即可。**"
   ]
  },
  {
   "cell_type": "markdown",
   "metadata": {},
   "source": [
    "### 图片分类数据集\n",
    "\n",
    "图片分类数据集应该分为train,val,两个目录，每个类别的所有图片放到该类名对应的目录下，可以直接调用torchvision.datasets.ImageFolder类分装数据集"
   ]
  },
  {
   "cell_type": "markdown",
   "metadata": {},
   "source": [
    "### 图片分割数据集"
   ]
  },
  {
   "cell_type": "code",
   "execution_count": null,
   "metadata": {},
   "outputs": [],
   "source": [
    "import os"
   ]
  },
  {
   "cell_type": "markdown",
   "metadata": {},
   "source": [
    "### 训练集，测试集lst文档准备"
   ]
  },
  {
   "cell_type": "code",
   "execution_count": null,
   "metadata": {},
   "outputs": [],
   "source": [
    "root_dir=\"./data_segmentation\"\n",
    "sub_dirs=os.listdir(root_dir)\n",
    "print(sub_dirs)\n",
    "\n",
    "train=[]\n",
    "\n",
    "#['raw', 'gt']\n",
    "for idx,sub_dir in enumerate(sub_dirs):\n",
    "    phasenames=os.listdir(os.path.join(root_dir,sub_dir))\n",
    "    \n",
    "    #['train']\n",
    "    for phasename in phasenames:\n",
    "        pwd_dir=os.path.join(root_dir,sub_dir,phasename)\n",
    "        \n",
    "        if phasename=='train':\n",
    "            \n",
    "            if idx==0:\n",
    "                \n",
    "                train_raw_filenames=[sub_dir+'/'+phasename+'/'+item for item in os.listdir(pwd_dir)]\n",
    "            if idx==1:\n",
    "                \n",
    "                train_gt_filenames=[sub_dir+'/'+phasename+'/'+item for item in os.listdir(pwd_dir)]\n",
    "        if phasename=='test':\n",
    "            test_filenames=[sub_dir+'/'+phasename+'/'+item for item in os.listdir(pwd_dir)]\n",
    "    \n",
    "# print(train_raw_filenames)\n",
    "# print(train_gt_filenames)\n",
    "# print(test_filenames)\n",
    "\n",
    "for train_raw,train_gt in zip(train_raw_filenames,train_gt_filenames):\n",
    "    train.append(train_raw+'\\t'+train_gt)\n",
    "    \n",
    "print(train[0])"
   ]
  },
  {
   "cell_type": "code",
   "execution_count": null,
   "metadata": {},
   "outputs": [],
   "source": [
    "with open(os.path.join(root_dir,'list/train.lst'),'a+') as train_file:\n",
    "    for item in train:\n",
    "        train_file.write(item+os.linesep)"
   ]
  },
  {
   "cell_type": "code",
   "execution_count": null,
   "metadata": {},
   "outputs": [],
   "source": [
    "with open(os.path.join(root_dir,'list/test.lst'),'a+') as test_file:\n",
    "    for item in test_filenames:\n",
    "        test_file.write(item+os.linesep)"
   ]
  },
  {
   "cell_type": "markdown",
   "metadata": {},
   "source": [
    "### 训练集，测试集lst文档内容\n",
    "#### list/train.lst：(原图路径名 制表符 gt图路径名)\n",
    "raw/train/0d1a9caf4350_16.jpg\tgt/train/0d1a9caf4350_16_mask.gif\n",
    "\n",
    "raw/train/0cdf5b5d0ce1_01.jpg\tgt/train/0cdf5b5d0ce1_01_mask.gif\n",
    "\n",
    "raw/train/0cdf5b5d0ce1_02.jpg\tgt/train/0cdf5b5d0ce1_02_mask.gif\n",
    "\n",
    "raw/train/0cdf5b5d0ce1_03.jpg\tgt/train/0cdf5b5d0ce1_03_mask.gif\n",
    "\n",
    "raw/train/0cdf5b5d0ce1_04.jpg\tgt/train/0cdf5b5d0ce1_04_mask.gif\n",
    "\n",
    "raw/train/0cdf5b5d0ce1_05.jpg\tgt/train/0cdf5b5d0ce1_05_mask.gif\n",
    "\n",
    "raw/train/0cdf5b5d0ce1_06.jpg\tgt/train/0cdf5b5d0ce1_06_mask.gif\n",
    "\n",
    "raw/train/0cdf5b5d0ce1_07.jpg\tgt/train/0cdf5b5d0ce1_07_mask.gif\n",
    "\n",
    "#### list/test.lst：(原图路径名)"
   ]
  },
  {
   "cell_type": "markdown",
   "metadata": {},
   "source": [
    "### 自定义Dataset"
   ]
  },
  {
   "cell_type": "code",
   "execution_count": 12,
   "metadata": {},
   "outputs": [],
   "source": [
    "from torch.utils import data\n",
    "from PIL import Image\n",
    "import os\n",
    "import cv2\n",
    "import numpy as np"
   ]
  },
  {
   "cell_type": "code",
   "execution_count": null,
   "metadata": {},
   "outputs": [
    {
     "name": "stdout",
     "output_type": "stream",
     "text": [
      "<class 'numpy.ndarray'>\n",
      "(1280, 1918)\n"
     ]
    }
   ],
   "source": [
    "#img_raw=cv2.imread('./data_segmentation/raw/train/0cdf5b5d0ce1_07.jpg',cv2.IMREAD_ANYCOLOR)\n",
    "#img_label=cv2.imread('./data_segmentation/gt/train/0cdf5b5d0ce1_07_mask.jpg',cv2.IMREAD_ANYCOLOR)\n",
    "gif = cv2.VideoCapture('./data_segmentation/gt/train/0cdf5b5d0ce1_07_mask.gif')\n",
    "ret,frame = gif.read() # ret=True if it finds a frame else False. Since your gif contains only one frame, the next read() will give you ret=False\n",
    "img = Image.fromarray(frame)\n",
    "img_label = img.convert('L')\n",
    "img_label=np.asarray(img_label)\n",
    "#print(img_raw.shape)\n",
    "print(type(img_label))\n",
    "print(img_label.shape)\n",
    "#print(type(img_raw))\n",
    "#cv2.imshow('raw',img_raw)\n",
    "cv2.imshow('label',img_label)\n",
    "cv2.waitKey(0)\n",
    "cv2.destroyAllWindows()"
   ]
  },
  {
   "cell_type": "code",
   "execution_count": null,
   "metadata": {},
   "outputs": [],
   "source": [
    "class MyDataset(data.Dataset):\n",
    "    def __init__(self,root,list_path,ignore_label=255):\n",
    "        super(MyDataset,self).__init__()\n",
    "        \n",
    "        self.root=root#'data_segmentation/'\n",
    "        self.list_path=list_path\n",
    "        \n",
    "        #list of [raw image path,label image path]\n",
    "        self.img_list=[line.strip().split() for line in open(root+list_path)]\n",
    "        \n",
    "        #字典的列表，每个字典记录1个样本的信息：img, label, name...\n",
    "        self.files=self.read_files()\n",
    "    \n",
    "    \n",
    "    def __len__(self):\n",
    "        return len(self.files)\n",
    "        \n",
    "    def __getitem__(self,index):\n",
    "        '''\n",
    "        这个方法是必须要有的，用于按照索引读取每个元素的具体内容\n",
    "        :param index:\n",
    "        :return:\n",
    "        #测试集只有原图像\n",
    "        #返回:原图像变换后的image的np数组，图像size的np数组，样本文件名\n",
    "        #训练集\n",
    "        #返回:原图像变换后的image的np数组，label图像变换后的label image的np数组，原图像size的np数组，样本文件名\n",
    "        return很关键，return回哪些内容，那么我们在训练时循环读取每个batch时，就能获得哪些内容\n",
    "        '''\n",
    "        item=self.files[index]\n",
    "        \n",
    "        img_path=item['img']\n",
    "        \n",
    "        image=cv2.imread(os.join(self.root,img_path))\n",
    "        size=image.shape\n",
    "                         \n",
    "        if 'test' in self.list_path:\n",
    "            #对raw image做变换\n",
    "            image=self.input_transform(image)\n",
    "            return image.copy(),np.array(size),item['name']\n",
    "        else\n",
    "            image=self.input_transform(image)\n",
    "            label_path=item['label']\n",
    "            #\n",
    "            #label=cv2.imread(os.join(self.root,label_path))\n",
    "            gif=cv2.VideoCapture(os.join(self.root,img_path))\n",
    "            ret,frame = gif.read() # ret=True if it finds a frame else False. Since your gif contains only one frame, the next read() will give you ret=False\n",
    "            label = Image.fromarray(frame).convert('L')\n",
    "            label=np.asarray(img_label)\n",
    "            return image.copy(),label.copy(),np.array(size),item['name']\n",
    "    \n",
    "    def input_transform(image):\n",
    "        '''\n",
    "        转换为np.float32类型,归一化，BGR->RGB，通道放在第1维\n",
    "        '''\n",
    "        image=image.astype(np.float32)[:,:,::-1]\n",
    "        image=image/255.0\n",
    "        image=image.transpose((2,0,1))\n",
    "        return image\n",
    "        \n",
    "    def read_files(self):\n",
    "        files=[]\n",
    "        if 'test' in list_path:\n",
    "            for item in self.img_list:\n",
    "                img_path=item\n",
    "                name=os.path.splitext(os.path.basename(img_path[0]))[0]\n",
    "                files.append({\n",
    "                    'img':img_path,\n",
    "                    'name':name\n",
    "                })\n",
    "        else:\n",
    "            for item in self.img_list:\n",
    "                img_path,label_path=item\n",
    "                name=os.path.splitext(os.path.basename(label_path))[0]\n",
    "                files.append({\n",
    "                    'img':img_path,\n",
    "                    'label':label_path,\n",
    "                    'name':name,\n",
    "                    'weight':1\n",
    "                })"
   ]
  }
 ],
 "metadata": {
  "kernelspec": {
   "display_name": "Python 3",
   "language": "python",
   "name": "python3"
  },
  "language_info": {
   "codemirror_mode": {
    "name": "ipython",
    "version": 3
   },
   "file_extension": ".py",
   "mimetype": "text/x-python",
   "name": "python",
   "nbconvert_exporter": "python",
   "pygments_lexer": "ipython3",
   "version": "3.6.6"
  }
 },
 "nbformat": 4,
 "nbformat_minor": 2
}
