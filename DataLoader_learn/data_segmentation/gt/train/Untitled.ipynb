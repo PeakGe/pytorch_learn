{
 "cells": [
  {
   "cell_type": "code",
   "execution_count": 23,
   "metadata": {},
   "outputs": [],
   "source": [
    "import cv2\n",
    "from PIL import Image"
   ]
  },
  {
   "cell_type": "code",
   "execution_count": 42,
   "metadata": {},
   "outputs": [
    {
     "name": "stdout",
     "output_type": "stream",
     "text": [
      "(1280, 1918, 3)\n",
      "(300, 400, 3)\n",
      "(1918, 1280)\n",
      "(400, 300)\n",
      "(1918, 1280)\n"
     ]
    }
   ],
   "source": [
    "img_raw=cv2.imread(\"2.jpg\",cv2.IMREAD_ANYCOLOR)\n",
    "img_tiger=cv2.imread(\"tiger.jpg\",cv2.IMREAD_ANYCOLOR)\n",
    "img_label=cv2.imread(\"1.gif\",0)\n",
    "\n",
    "img_raw_pil=Image.open('2.jpg')\n",
    "img_tiger_pil=Image.open('tiger.jpg')\n",
    "img_label_pil=Image.open('1.gif')\n",
    "print(img_raw.shape)\n",
    "print(img_tiger.shape)\n",
    "#print(img_label.shape)\n",
    "\n",
    "print(img_raw_pil.size)\n",
    "print(img_tiger_pil.size)\n",
    "print(img_label_pil.size)"
   ]
  }
 ],
 "metadata": {
  "kernelspec": {
   "display_name": "Python 3",
   "language": "python",
   "name": "python3"
  },
  "language_info": {
   "codemirror_mode": {
    "name": "ipython",
    "version": 3
   },
   "file_extension": ".py",
   "mimetype": "text/x-python",
   "name": "python",
   "nbconvert_exporter": "python",
   "pygments_lexer": "ipython3",
   "version": "3.6.6"
  }
 },
 "nbformat": 4,
 "nbformat_minor": 2
}
