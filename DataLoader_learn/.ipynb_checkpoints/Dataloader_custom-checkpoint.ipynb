{
 "cells": [
  {
   "cell_type": "markdown",
   "metadata": {},
   "source": [
    "### 自定义数据读取\n",
    "在Dataloader_default中我们学会采用torchvision.datasets.ImageFolder这个接口来读取图像数据，**该接口默认你的训练数据是按照一个类别存放在一个文件夹下。**但是有些情况下你的图像数据不是这样维护的，比如一个文件夹下面各个类别的图像数据都有，同时用一个对应的标签文件，比如txt文件来维护图像和标签的对应关系，在这种情况下就不能用torchvision.datasets.ImageFolder来读取数据了，需要自定义一个数据读取接口。"
   ]
  },
  {
   "cell_type": "markdown",
   "metadata": {},
   "source": [
    "### torchvision.datasets.ImageFolder类源码"
   ]
  },
  {
   "cell_type": "code",
   "execution_count": null,
   "metadata": {},
   "outputs": [],
   "source": [
    "class ImageFolder(data.Dataset):\n",
    "    \"\"\"A generic data loader where the images are arranged in this way: ::\n",
    "\n",
    "        root/dog/xxx.png\n",
    "        root/dog/xxy.png\n",
    "        root/dog/xxz.png\n",
    "\n",
    "        root/cat/123.png\n",
    "        root/cat/nsdf3.png\n",
    "        root/cat/asd932_.png\n",
    "\n",
    "    参数:\n",
    "        - root：在root指定的路径下寻找图片\n",
    "        - transform：对PIL Image进行的转换操作，transform的输入是使用loader读取图片的返回对象\n",
    "        - target_transform：对label的转换\n",
    "        - loader：给定路径后如何读取图片，默认读取为RGB格式的PIL Image对象\n",
    "\n",
    "     属性:\n",
    "        classes (list):类名列表\n",
    "        class_to_idx (dict):类名和类标签字典 {class_name:class_index,...}.\n",
    "        imgs (list): 图像路径和标签元组的列表 [(image path,class_index)...]\n",
    "    \"\"\"\n",
    "\n",
    "\n",
    "    def __init__(self, root, transform=None, target_transform=None,\n",
    "                 loader=default_loader):\n",
    "        classes, class_to_idx = find_classes(root)\n",
    "        imgs = make_dataset(root, class_to_idx)\n",
    "        if len(imgs) == 0:\n",
    "            raise(RuntimeError(\"Found 0 images in subfolders of: \" + root + \"\\n\"\n",
    "                               \"Supported image extensions are: \" + \",\".join(IMG_EXTENSIONS)))\n",
    "\n",
    "        self.root = root\n",
    "        self.imgs = imgs\n",
    "        self.classes = classes\n",
    "        self.class_to_idx = class_to_idx\n",
    "        self.transform = transform\n",
    "        self.target_transform = target_transform\n",
    "        self.loader = loader\n",
    "\n",
    "    def __getitem__(self, index):\n",
    "        \"\"\"\n",
    "        Args:\n",
    "            index (int): Index\n",
    "\n",
    "        Returns:\n",
    "            tuple: (image, target) where target is class_index of the target class.\n",
    "        \"\"\"\n",
    "        path, target = self.imgs[index]\n",
    "        img = self.loader(path)\n",
    "        if self.transform is not None:\n",
    "            img = self.transform(img)\n",
    "        if self.target_transform is not None:\n",
    "            target = self.target_transform(target)\n",
    "\n",
    "        return img, target\n",
    "\n",
    "    def __len__(self):\n",
    "        return len(self.imgs)"
   ]
  },
  {
   "cell_type": "markdown",
   "metadata": {},
   "source": [
    "看起来很复杂，其实非常简单。继承的类是torch.utils.data.Dataset，主要包含三个方法：\n",
    "- 初始化\\_\\_init\\_\\_，\n",
    "- 获取图像\\_\\_getitem\\_\\_，\n",
    "- 数据集数量 \\_\\_len\\_\\_。\n",
    "\n",
    "\\_\\_init\\_\\_方法中先通过find_classes函数得到分类的类别名（classes）和类别名与数字类别的映射关系字典（class_to_idx）。然后通过make_dataset函数得到imags，这个imags是一个列表，其中每个值是一个tuple，每个tuple包含两个元素：图像路径和标签。剩下的就是一些赋值操作了。\n",
    "\n",
    "在\\_\\_getitem\\_\\_方法中最重要的就是 img = self.loader(path)这行，表示数据读取，可以从\\_\\_init\\_\\_方法中看出self.loader采用的是default_loader，这个default_loader的核心就是用python的PIL库的Image模块来读取图像数据。\n"
   ]
  },
  {
   "cell_type": "markdown",
   "metadata": {},
   "source": [
    "**稍微看下default_loader函数，该函数主要分两种情况调用两个函数，一般采用pil_loader函数。**"
   ]
  },
  {
   "cell_type": "code",
   "execution_count": null,
   "metadata": {},
   "outputs": [],
   "source": [
    "def pil_loader(path):\n",
    "    with open(path, 'rb') as f:\n",
    "        with Image.open(f) as img:\n",
    "            return img.convert('RGB')\n",
    "\n",
    "def accimage_loader(path):\n",
    "    import accimage\n",
    "    try:\n",
    "        return accimage.Image(path)\n",
    "    except IOError:\n",
    "        # Potentially a decoding problem, fall back to PIL.Image\n",
    "        return pil_loader(path)\n",
    "\n",
    "def default_loader(path):\n",
    "    from torchvision import get_image_backend\n",
    "    if get_image_backend() == 'accimage':\n",
    "        return accimage_loader(path)\n",
    "    else:"
   ]
  },
  {
   "cell_type": "markdown",
   "metadata": {},
   "source": [
    "看懂了ImageFolder这个类，就可以自定义一个你自己的数据读取接口了。\n",
    "\n",
    "**首先在PyTorch中和数据读取相关的类基本都要继承一个基类：torch.utils.data.Dataset。然后再改写其中的__init__、__len__、__getitem__等方法即可。**"
   ]
  },
  {
   "cell_type": "markdown",
   "metadata": {},
   "source": [
    "### 图片分类数据集\n",
    "\n",
    "图片分类数据集应该分为train,val,两个目录，每个类别的所有图片放到该类名对应的目录下，可以直接调用torchvision.datasets.ImageFolder类分装数据集"
   ]
  },
  {
   "cell_type": "markdown",
   "metadata": {},
   "source": [
    "### 图片分割数据集"
   ]
  },
  {
   "cell_type": "code",
   "execution_count": 1,
   "metadata": {},
   "outputs": [],
   "source": [
    "import os"
   ]
  },
  {
   "cell_type": "markdown",
   "metadata": {},
   "source": [
    "### 训练集，测试集lst文档准备"
   ]
  },
  {
   "cell_type": "code",
   "execution_count": 28,
   "metadata": {},
   "outputs": [
    {
     "name": "stdout",
     "output_type": "stream",
     "text": [
      "['raw', 'gt']\n",
      "1\n",
      "['raw/train/0d1a9caf4350_16.jpg', 'raw/train/0cdf5b5d0ce1_01.jpg', 'raw/train/0cdf5b5d0ce1_02.jpg', 'raw/train/0cdf5b5d0ce1_03.jpg', 'raw/train/0cdf5b5d0ce1_04.jpg', 'raw/train/0cdf5b5d0ce1_05.jpg', 'raw/train/0cdf5b5d0ce1_06.jpg', 'raw/train/0cdf5b5d0ce1_07.jpg', 'raw/train/0cdf5b5d0ce1_08.jpg', 'raw/train/0cdf5b5d0ce1_09.jpg', 'raw/train/0cdf5b5d0ce1_10.jpg', 'raw/train/0cdf5b5d0ce1_11.jpg', 'raw/train/0cdf5b5d0ce1_12.jpg', 'raw/train/0cdf5b5d0ce1_13.jpg', 'raw/train/0cdf5b5d0ce1_14.jpg', 'raw/train/0cdf5b5d0ce1_15.jpg', 'raw/train/0cdf5b5d0ce1_16.jpg', 'raw/train/0ce66b539f52_01.jpg', 'raw/train/0ce66b539f52_02.jpg', 'raw/train/0ce66b539f52_03.jpg', 'raw/train/0ce66b539f52_04.jpg', 'raw/train/0ce66b539f52_05.jpg', 'raw/train/0ce66b539f52_06.jpg', 'raw/train/0ce66b539f52_07.jpg', 'raw/train/0ce66b539f52_08.jpg', 'raw/train/0ce66b539f52_09.jpg', 'raw/train/0ce66b539f52_10.jpg', 'raw/train/0ce66b539f52_11.jpg', 'raw/train/0ce66b539f52_12.jpg', 'raw/train/0ce66b539f52_13.jpg', 'raw/train/0ce66b539f52_14.jpg', 'raw/train/0ce66b539f52_15.jpg', 'raw/train/0ce66b539f52_16.jpg', 'raw/train/0d1a9caf4350_01.jpg', 'raw/train/0d1a9caf4350_02.jpg', 'raw/train/0d1a9caf4350_03.jpg', 'raw/train/0d1a9caf4350_04.jpg', 'raw/train/0d1a9caf4350_05.jpg', 'raw/train/0d1a9caf4350_06.jpg', 'raw/train/0d1a9caf4350_07.jpg', 'raw/train/0d1a9caf4350_08.jpg', 'raw/train/0d1a9caf4350_09.jpg', 'raw/train/0d1a9caf4350_10.jpg', 'raw/train/0d1a9caf4350_11.jpg', 'raw/train/0d1a9caf4350_12.jpg', 'raw/train/0d1a9caf4350_13.jpg', 'raw/train/0d1a9caf4350_14.jpg', 'raw/train/0d1a9caf4350_15.jpg']\n",
      "['gt/train/0d1a9caf4350_16_mask.gif', 'gt/train/0cdf5b5d0ce1_01_mask.gif', 'gt/train/0cdf5b5d0ce1_02_mask.gif', 'gt/train/0cdf5b5d0ce1_03_mask.gif', 'gt/train/0cdf5b5d0ce1_04_mask.gif', 'gt/train/0cdf5b5d0ce1_05_mask.gif', 'gt/train/0cdf5b5d0ce1_06_mask.gif', 'gt/train/0cdf5b5d0ce1_07_mask.gif', 'gt/train/0cdf5b5d0ce1_08_mask.gif', 'gt/train/0cdf5b5d0ce1_09_mask.gif', 'gt/train/0cdf5b5d0ce1_10_mask.gif', 'gt/train/0cdf5b5d0ce1_11_mask.gif', 'gt/train/0cdf5b5d0ce1_12_mask.gif', 'gt/train/0cdf5b5d0ce1_13_mask.gif', 'gt/train/0cdf5b5d0ce1_14_mask.gif', 'gt/train/0cdf5b5d0ce1_15_mask.gif', 'gt/train/0cdf5b5d0ce1_16_mask.gif', 'gt/train/0ce66b539f52_01_mask.gif', 'gt/train/0ce66b539f52_02_mask.gif', 'gt/train/0ce66b539f52_03_mask.gif', 'gt/train/0ce66b539f52_04_mask.gif', 'gt/train/0ce66b539f52_05_mask.gif', 'gt/train/0ce66b539f52_06_mask.gif', 'gt/train/0ce66b539f52_07_mask.gif', 'gt/train/0ce66b539f52_08_mask.gif', 'gt/train/0ce66b539f52_09_mask.gif', 'gt/train/0ce66b539f52_10_mask.gif', 'gt/train/0ce66b539f52_11_mask.gif', 'gt/train/0ce66b539f52_12_mask.gif', 'gt/train/0ce66b539f52_13_mask.gif', 'gt/train/0ce66b539f52_14_mask.gif', 'gt/train/0ce66b539f52_15_mask.gif', 'gt/train/0ce66b539f52_16_mask.gif', 'gt/train/0d1a9caf4350_01_mask.gif', 'gt/train/0d1a9caf4350_02_mask.gif', 'gt/train/0d1a9caf4350_03_mask.gif', 'gt/train/0d1a9caf4350_04_mask.gif', 'gt/train/0d1a9caf4350_05_mask.gif', 'gt/train/0d1a9caf4350_06_mask.gif', 'gt/train/0d1a9caf4350_07_mask.gif', 'gt/train/0d1a9caf4350_08_mask.gif', 'gt/train/0d1a9caf4350_09_mask.gif', 'gt/train/0d1a9caf4350_10_mask.gif', 'gt/train/0d1a9caf4350_11_mask.gif', 'gt/train/0d1a9caf4350_12_mask.gif', 'gt/train/0d1a9caf4350_13_mask.gif', 'gt/train/0d1a9caf4350_14_mask.gif', 'gt/train/0d1a9caf4350_15_mask.gif']\n",
      "['raw/test/fff9b3a5373f_16.jpg', 'raw/test/fecea3036c59_01.jpg', 'raw/test/fecea3036c59_02.jpg', 'raw/test/fecea3036c59_03.jpg', 'raw/test/fecea3036c59_04.jpg', 'raw/test/fecea3036c59_05.jpg', 'raw/test/fecea3036c59_06.jpg', 'raw/test/fecea3036c59_07.jpg', 'raw/test/fecea3036c59_08.jpg', 'raw/test/fecea3036c59_09.jpg', 'raw/test/fecea3036c59_10.jpg', 'raw/test/fecea3036c59_11.jpg', 'raw/test/fecea3036c59_12.jpg', 'raw/test/fecea3036c59_13.jpg', 'raw/test/fecea3036c59_14.jpg', 'raw/test/fecea3036c59_15.jpg', 'raw/test/fecea3036c59_16.jpg', 'raw/test/fff9b3a5373f_01.jpg', 'raw/test/fff9b3a5373f_02.jpg', 'raw/test/fff9b3a5373f_03.jpg', 'raw/test/fff9b3a5373f_04.jpg', 'raw/test/fff9b3a5373f_05.jpg', 'raw/test/fff9b3a5373f_06.jpg', 'raw/test/fff9b3a5373f_07.jpg', 'raw/test/fff9b3a5373f_08.jpg', 'raw/test/fff9b3a5373f_09.jpg', 'raw/test/fff9b3a5373f_10.jpg', 'raw/test/fff9b3a5373f_11.jpg', 'raw/test/fff9b3a5373f_12.jpg', 'raw/test/fff9b3a5373f_13.jpg', 'raw/test/fff9b3a5373f_14.jpg', 'raw/test/fff9b3a5373f_15.jpg']\n",
      "raw/train/0d1a9caf4350_16.jpg\tgt/train/0d1a9caf4350_16_mask.gif\n"
     ]
    }
   ],
   "source": [
    "root_dir=\"./data_segmentation\"\n",
    "sub_dirs=os.listdir(root_dir)\n",
    "print(sub_dirs)\n",
    "\n",
    "train=[]\n",
    "\n",
    "#['raw', 'gt']\n",
    "for idx,sub_dir in enumerate(sub_dirs):\n",
    "    phasenames=os.listdir(os.path.join(root_dir,sub_dir))\n",
    "    \n",
    "    #['train']\n",
    "    for phasename in phasenames:\n",
    "        pwd_dir=os.path.join(root_dir,sub_dir,phasename)\n",
    "        \n",
    "        if phasename=='train':\n",
    "            \n",
    "            if idx==0:\n",
    "                \n",
    "                train_raw_filenames=[sub_dir+'/'+phasename+'/'+item for item in os.listdir(pwd_dir)]\n",
    "            if idx==1:\n",
    "                \n",
    "                train_gt_filenames=[sub_dir+'/'+phasename+'/'+item for item in os.listdir(pwd_dir)]\n",
    "        if phasename=='test':\n",
    "            test_filenames=[sub_dir+'/'+phasename+'/'+item for item in os.listdir(pwd_dir)]\n",
    "    \n",
    "# print(train_raw_filenames)\n",
    "# print(train_gt_filenames)\n",
    "# print(test_filenames)\n",
    "\n",
    "for train_raw,train_gt in zip(train_raw_filenames,train_gt_filenames):\n",
    "    train.append(train_raw+'\\t'+train_gt)\n",
    "    \n",
    "print(train[0])"
   ]
  },
  {
   "cell_type": "code",
   "execution_count": 30,
   "metadata": {},
   "outputs": [],
   "source": [
    "with open(os.path.join(root_dir,'list/train.lst'),'a+') as train_file:\n",
    "    for item in train:\n",
    "        train_file.write(item+os.linesep)"
   ]
  },
  {
   "cell_type": "code",
   "execution_count": 31,
   "metadata": {},
   "outputs": [],
   "source": [
    "with open(os.path.join(root_dir,'list/test.lst'),'a+') as test_file:\n",
    "    for item in test_filenames:\n",
    "        test_file.write(item+os.linesep)"
   ]
  },
  {
   "cell_type": "markdown",
   "metadata": {},
   "source": [
    "### 训练集，测试集lst文档内容\n",
    "#### list/train.lst：(原图路径名 制表符 gt图路径名)\n",
    "raw/train/0d1a9caf4350_16.jpg\tgt/train/0d1a9caf4350_16_mask.gif\n",
    "\n",
    "raw/train/0cdf5b5d0ce1_01.jpg\tgt/train/0cdf5b5d0ce1_01_mask.gif\n",
    "\n",
    "raw/train/0cdf5b5d0ce1_02.jpg\tgt/train/0cdf5b5d0ce1_02_mask.gif\n",
    "\n",
    "raw/train/0cdf5b5d0ce1_03.jpg\tgt/train/0cdf5b5d0ce1_03_mask.gif\n",
    "\n",
    "raw/train/0cdf5b5d0ce1_04.jpg\tgt/train/0cdf5b5d0ce1_04_mask.gif\n",
    "\n",
    "raw/train/0cdf5b5d0ce1_05.jpg\tgt/train/0cdf5b5d0ce1_05_mask.gif\n",
    "\n",
    "raw/train/0cdf5b5d0ce1_06.jpg\tgt/train/0cdf5b5d0ce1_06_mask.gif\n",
    "\n",
    "raw/train/0cdf5b5d0ce1_07.jpg\tgt/train/0cdf5b5d0ce1_07_mask.gif\n",
    "\n",
    "#### list/test.lst：(原图路径名)"
   ]
  },
  {
   "cell_type": "markdown",
   "metadata": {},
   "source": [
    "### 自定义Dataset"
   ]
  },
  {
   "cell_type": "code",
   "execution_count": 32,
   "metadata": {},
   "outputs": [],
   "source": [
    "from torch.utils import data"
   ]
  },
  {
   "cell_type": "code",
   "execution_count": null,
   "metadata": {},
   "outputs": [],
   "source": [
    "class MyDataset(data.Dataset):\n",
    "    def __init__(self,\n",
    "                root,\n",
    "                list_path,\n",
    "                ignore_label=255):\n",
    "        super(MyDataset,self).__init__()\n",
    "        "
   ]
  }
 ],
 "metadata": {
  "kernelspec": {
   "display_name": "Python 3",
   "language": "python",
   "name": "python3"
  },
  "language_info": {
   "codemirror_mode": {
    "name": "ipython",
    "version": 3
   },
   "file_extension": ".py",
   "mimetype": "text/x-python",
   "name": "python",
   "nbconvert_exporter": "python",
   "pygments_lexer": "ipython3",
   "version": "3.6.6"
  }
 },
 "nbformat": 4,
 "nbformat_minor": 2
}
