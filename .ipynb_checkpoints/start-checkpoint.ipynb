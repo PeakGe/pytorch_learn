{
 "cells": [
  {
   "cell_type": "code",
   "execution_count": 1,
   "metadata": {},
   "outputs": [],
   "source": [
    "import torch"
   ]
  },
  {
   "cell_type": "code",
   "execution_count": 15,
   "metadata": {},
   "outputs": [
    {
     "name": "stdout",
     "output_type": "stream",
     "text": [
      "tensor([[0., 0.],\n",
      "        [0., 0.]])\n"
     ]
    }
   ],
   "source": [
    "#tensor数据类型\n",
    "#生成tensor\n",
    "#(1)torch.FloatTensor用于生成浮点数据类型的tensor，参数可以使shape或list\n",
    "#a=torch.FloatTensor(3,3)#都是随机数\n",
    "#b=torch.FloatTensor([1,2,3,4,5])\n",
    "\n",
    "#(2)torch.\n",
    "#torch.IntTensor用于生成整形数据类型的tensor，参数同上\n",
    "#a=torch.IntTensor(5,2)\n",
    "#b=torch.IntTensor([9,8,7,6,5])\n",
    "\n",
    "#(3)torch.rand()生成浮点型指定shape的0-1之间的随机数\n",
    "#a=torch.rand(3,3)\n",
    "\n",
    "#(4）torch.randn()生成浮点型指定shape，均值为0，方差为1的正态分布tensor\n",
    "#a=torch.randn(3,3)\n",
    "\n",
    "#(5)torch.range(1,20,1)生成1到20步长为1的数据\n",
    "#a=torch.range(1,20,1)\n",
    "\n",
    "#(6)\n",
    "#a=torch.zeros(2,2)\n",
    "print(a)\n",
    "#print(b)"
   ]
  },
  {
   "cell_type": "code",
   "execution_count": 21,
   "metadata": {},
   "outputs": [
    {
     "name": "stdout",
     "output_type": "stream",
     "text": [
      "tensor([[ 0.8174,  0.1594, -0.6060],\n",
      "        [-0.9087, -0.3939,  0.7999],\n",
      "        [ 0.0108,  1.3771, -0.8093]])\n",
      "tensor([ 1.6805, -2.5409,  4.2905])\n"
     ]
    }
   ],
   "source": [
    "#tensor运算\n",
    "#(1)torch.abs()求绝对值\n",
    "#(2)torch.add()参数为两个tensor或一个tensor一个标量\n",
    "#a=torch.randn(3,3)\n",
    "#print(a)\n",
    "\n",
    "#b=torch.randn(3,3)\n",
    "#print(b)\n",
    "\n",
    "#c=torch.add(a,b)\n",
    "#print(c)\n",
    "\n",
    "#d=torch.add(c,10)\n",
    "#print(d)\n",
    "#(3)torch.clamp()：裁剪数据\n",
    "#a=torch.randn(3,3)\n",
    "#b=torch.clamp(a,-0.1,0.1)#参数：原tensor，下边界，上边界\n",
    "#print(a)\n",
    "#print(b)\n",
    "\n",
    "#(4)torch.div()：tensor相除，参数类似torch.add()\n",
    "#(5)torch.mul()：tensor求积，参数类似torch.add()\n",
    "#torch.pow(a,3)求幂运算\n",
    "#b=torch.pow(a,3)\n",
    "#print(b)\n",
    "\n",
    "#(6)矩阵相乘torch.mm()\n",
    "#(7)矩阵乘向量torch.mv(),参数为矩阵和向量，且向量的长度必须等于矩阵的列数\n",
    "a=torch.randn(3,2)\n",
    "b=torch.randn(2,3)\n",
    "c=torch.mm(a,b)\n",
    "d=torch.randn(3)\n",
    "e=torch.mv(c,d)\n",
    "print(c)\n",
    "print(e)"
   ]
  },
  {
   "cell_type": "code",
   "execution_count": null,
   "metadata": {},
   "outputs": [],
   "source": [
    "#输入特征：1000，隐藏层：100，输出层：10，batch_size=100"
   ]
  }
 ],
 "metadata": {
  "kernelspec": {
   "display_name": "Python 3",
   "language": "python",
   "name": "python3"
  },
  "language_info": {
   "codemirror_mode": {
    "name": "ipython",
    "version": 3
   },
   "file_extension": ".py",
   "mimetype": "text/x-python",
   "name": "python",
   "nbconvert_exporter": "python",
   "pygments_lexer": "ipython3",
   "version": "3.6.6"
  }
 },
 "nbformat": 4,
 "nbformat_minor": 2
}
