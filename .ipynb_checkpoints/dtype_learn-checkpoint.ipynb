{
 "cells": [
  {
   "cell_type": "code",
   "execution_count": 1,
   "metadata": {},
   "outputs": [],
   "source": [
    "import torch"
   ]
  },
  {
   "cell_type": "markdown",
   "metadata": {},
   "source": [
    "### torch.dtype \n",
    "\n",
    "torch.dtype是一个对象，表示torch.Tensor的数据类型。 PyTorch有八种不同的数据类型：\n",
    "<table>\n",
    "    <tr><td>Data type</td> <td>dtype</td> <td>Tensor types</td></tr>\n",
    "    <tr><td>32-bit floating point</td> <td>torch.float32 or torch.float</td> <td>torch.*.FloatTensor</td></tr>\n",
    "    <tr><td>64-bit floating point</td> <td>torch.float64 or torch.double</td> <td>torch.*.DoubleTensor</td></tr>\n",
    "    <tr><td>16-bit floating point</td> <td>torch.float16 or torch.half</td> <td>torch.*.HalfTensor</td></tr>\n",
    "    <tr><td>8-bit integer (unsigned)</td> <td>torch.uint8</td> <td>torch.*.ByteTensor</td></tr>\n",
    "    <tr><td>8-bit integer (signed)</td> <td>torch.int8</td> <td>torch.*.CharTensor</td></tr>\n",
    "    <tr><td>16-bit integer (signed)</td> <td>torch.int16 or torch.short</td> <td>torch.*.ShortTensor</td></tr>\n",
    "    <tr><td>32-bit integer (signed)</td> <td>torch.int32 or torch.int</td> <td>torch.*.IntTensor</td></tr>\n",
    "    <tr><td>64-bit integer (signed)</td> <td>torch.int64 or torch.long</td> <td>torch.*.LongTensor</td></tr>\n",
    "</table>\n",
    "\n",
    "要确定``torch.dtype``是否为浮点数据类型，可以使用属性``is_floating_point``，如果数据类型是浮点数据类型，则返回True。"
   ]
  },
  {
   "cell_type": "markdown",
   "metadata": {},
   "source": [
    "### torch.set_default_dtype(d)\n",
    "将默认浮点数类型dtype设置为d。 **此类型将用作torch.tensor（）中类型推断的默认浮点类型**。 默认浮点dtype最初是torch.float32。 \n",
    "\n",
    "参数:\n",
    "- d(torch.dtype):要设置默认值的浮点dtype"
   ]
  },
  {
   "cell_type": "code",
   "execution_count": 2,
   "metadata": {},
   "outputs": [
    {
     "name": "stdout",
     "output_type": "stream",
     "text": [
      "torch.float32\n",
      "torch.float64\n"
     ]
    }
   ],
   "source": [
    "ten1=torch.tensor([1.2, 3])\n",
    "print(ten1.dtype)\n",
    "torch.set_default_dtype(torch.float64)\n",
    "ten2=torch.tensor([1.2, 3])\n",
    "print(ten2.dtype)"
   ]
  },
  {
   "cell_type": "markdown",
   "metadata": {},
   "source": [
    "### torch.get_default_dtype（）\n",
    "torch.dtype获取当前的默认浮点的类型``torch.dtype``。"
   ]
  },
  {
   "cell_type": "code",
   "execution_count": 3,
   "metadata": {},
   "outputs": [
    {
     "data": {
      "text/plain": [
       "torch.float64"
      ]
     },
     "execution_count": 3,
     "metadata": {},
     "output_type": "execute_result"
    }
   ],
   "source": [
    "#初始时，默认浮点数类型为torch.float32\n",
    "torch.get_default_dtype()"
   ]
  },
  {
   "cell_type": "markdown",
   "metadata": {},
   "source": [
    "### torch.set_default_tensor_type(t)\n",
    "将默认的torch.Tensor类型设置为浮点张量类型t。 **此类型还将用作``torch.tensor()``中类型推断的默认浮点类型。** 默认的浮点张量类型最初是torch.FloatTensor。 \n",
    "参数:\n",
    "- t(type或string):浮点张量类型或其名称"
   ]
  },
  {
   "cell_type": "code",
   "execution_count": 5,
   "metadata": {},
   "outputs": [
    {
     "name": "stdout",
     "output_type": "stream",
     "text": [
      "torch.float64\n",
      "torch.float32\n"
     ]
    }
   ],
   "source": [
    "ten1=torch.tensor([1.2, 3])\n",
    "print(ten1.dtype)\n",
    "torch.set_default_tensor_type(torch.FloatTensor)\n",
    "ten2=torch.tensor([1.2, 3])\n",
    "print(ten2.dtype)"
   ]
  }
 ],
 "metadata": {
  "kernelspec": {
   "display_name": "Python 3",
   "language": "python",
   "name": "python3"
  },
  "language_info": {
   "codemirror_mode": {
    "name": "ipython",
    "version": 3
   },
   "file_extension": ".py",
   "mimetype": "text/x-python",
   "name": "python",
   "nbconvert_exporter": "python",
   "pygments_lexer": "ipython3",
   "version": "3.6.6"
  }
 },
 "nbformat": 4,
 "nbformat_minor": 2
}
